{
 "cells": [
  {
   "cell_type": "markdown",
   "id": "7a8273fb",
   "metadata": {},
   "source": [
    "\n",
    "# Prospect Theory Utility Elicitation\n",
    "This notebook allows students to input their certainty equivalents for risky prospects and compares them to corrected utility values using Prospect Theory. It calculates deviations and provides feedback on rationality.\n"
   ]
  },
  {
   "cell_type": "code",
   "execution_count": null,
   "id": "33120883",
   "metadata": {},
   "outputs": [],
   "source": [
    "\n",
    "import numpy as np\n",
    "import pandas as pd\n",
    "import matplotlib.pyplot as plt\n",
    "\n",
    "# Prospect Theory parameters\n",
    "loss_aversion = 2.25  # lambda\n",
    "alpha = 0.88          # curvature for gains\n",
    "beta = 0.88           # curvature for losses\n",
    "\n",
    "def weight(p):\n",
    "    gamma = 0.61\n",
    "    return np.exp(-(-np.log(p))**gamma)\n",
    "\n",
    "def value(x):\n",
    "    if x >= 0:\n",
    "        return x**alpha\n",
    "    else:\n",
    "        return -loss_aversion * ((-x)**beta)\n"
   ]
  },
  {
   "cell_type": "code",
   "execution_count": null,
   "id": "0b36df65",
   "metadata": {},
   "outputs": [],
   "source": [
    "\n",
    "# Input student data: [amount, probability, certainty equivalent]\n",
    "data = [\n",
    "    [100, 0.9, 85],\n",
    "    [200, 0.5, 90],\n",
    "    [-100, 0.8, -70],\n",
    "    [500, 0.1, 40],\n",
    "    [-50, 0.5, -30]\n",
    "]\n",
    "\n",
    "results = []\n",
    "for x, p, ce in data:\n",
    "    pt_val = weight(p) * value(x)\n",
    "    ce_val = value(ce)\n",
    "    deviation = abs(pt_val - ce_val)\n",
    "    feedback = \"Rational\" if deviation < 5 else (\"Minor Bias\" if deviation < 15 else \"Significant Bias\")\n",
    "    results.append({\n",
    "        'Prospect': f\"{int(p*100)}% chance to {'win' if x>0 else 'lose'} ${abs(x)}\",\n",
    "        'Certainty Equivalent': ce,\n",
    "        'PT Value': round(pt_val, 2),\n",
    "        'CE Value': round(ce_val, 2),\n",
    "        'Deviation': round(deviation, 2),\n",
    "        'Feedback': feedback\n",
    "    })\n",
    "\n",
    "report_df = pd.DataFrame(results)\n",
    "report_df\n"
   ]
  },
  {
   "cell_type": "code",
   "execution_count": null,
   "id": "4bc4b36a",
   "metadata": {},
   "outputs": [],
   "source": [
    "\n",
    "# Plot deviation\n",
    "plt.figure(figsize=(8,5))\n",
    "plt.bar(report_df['Prospect'], report_df['Deviation'], color='skyblue')\n",
    "plt.ylabel('Deviation from PT Value')\n",
    "plt.title('Rationality Deviation per Prospect')\n",
    "plt.xticks(rotation=45, ha='right')\n",
    "plt.tight_layout()\n",
    "plt.show()\n"
   ]
  },
  {
   "cell_type": "markdown",
   "id": "5b65a1d3",
   "metadata": {},
   "source": [
    "\n",
    "### Interpretation\n",
    "- **Deviation < 5**: Rational choice\n",
    "- **Deviation 5–15**: Minor bias detected\n",
    "- **Deviation > 15**: Significant behavioral bias\n",
    "Use this feedback to reflect on how your certainty equivalents align with Prospect Theory predictions.\n"
   ]
  }
 ],
 "metadata": {},
 "nbformat": 4,
 "nbformat_minor": 5
}
